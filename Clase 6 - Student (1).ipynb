{
  "cells": [
    {
      "cell_type": "markdown",
      "metadata": {
        "id": "5lT9Ci7qLD-0"
      },
      "source": [
        "# El Viaje de los Libros Mágicos\n",
        "\n",
        "Había una vez en el tranquilo pueblo de Programópolis, una librería encantada llamada \"Magic Books\". Esta librería, dirigida por el amable bibliotecario Mr. Code, albergaba libros extraordinarios que contenían historias de mundos lejanos, aventuras emocionantes y sabiduría ancestral.\n",
        "\n",
        "Un día, Mr. Code decidió darle un toque de magia adicional a la librería creando un sistema de gestión para organizar y cuidar mejor a sus magic books. Así nació la idea de \"El Viaje de los MagicBooks\", un sistema que no solo mantenía un registro de cada libro, sino que también permitía realizar acciones asombrosas.\n",
        "\n",
        "Cuando un nuevo libro llegaba a la librería, se integraba mágicamente al catálogo. Los libros se compartian sus historias y experiencias con los lectores, creando una comunidad literaria única. Y para Mr. Code la vida se le habia hecho mas sencilla ya que este sistema le permitia acceder al inventario magico en cualquier momento que lo requeria sin si quiera hacer ningun esfuerzo. Dandole la habilidad de crear catalogos de temas especificos que buscan los lectores en un abrir y cerrar los ojos.\n",
        "\n",
        "----\n",
        "`Usando programacion orientada a objetos representa los elementos que conforman la historia, agrega las caracteristicas de cada una de ellas y agrega las funcionalidades necesarias para que el sistema pueda ser usado por el bibliotecario`\n",
        "--"
      ]
    },
    {
      "cell_type": "markdown",
      "metadata": {
        "id": "BCoDC4Tm5kAQ"
      },
      "source": [
        "```\n",
        "# puedes usar este bloque para escribir tus ideas :D\n",
        "```\n",
        "\n",
        "\n"
      ]
    },
    {
      "cell_type": "code",
      "execution_count": null,
      "metadata": {
        "id": "eXJ9GQnRLBvw"
      },
      "outputs": [],
      "source": [
        "class Book:\n",
        "    def __init__(self, title, category, author):\n",
        "        self.title = title\n",
        "        self.category = category\n",
        "        self.author = author\n",
        "\n",
        "    def __str__(self):\n",
        "        return f\"{self.title} del autor {self.author}\"\n",
        "\n",
        "\n",
        "class Category:\n",
        "    def __init__(self, name_category):\n",
        "        self.name_category = name_category\n",
        "        self.book_list = []\n",
        "\n",
        "    def add_book(self, book):\n",
        "        self.book_list.append(book)\n",
        "\n",
        "    def show_books(self):\n",
        "        if self.book_list:\n",
        "            print(f\"Libros en la categoría {self.name_category}:\")\n",
        "            for book in self.book_list:\n",
        "                print(f\"- {book}\")\n",
        "        else:\n",
        "            print(f\"No hay libros en la categoría {self.name_category}.\")\n",
        "\n",
        "\n",
        "class BooksManager:\n",
        "    def __init__(self):\n",
        "        self.categories = {}\n",
        "\n",
        "    def play(self):\n",
        "        while True:\n",
        "            option = input(\"Desea:\\n 1. Agregar Libro\\n 2. Ver la lista de libros\\n 3. Salir \\n\")\n",
        "            if option == \"1\":\n",
        "                book = self.book_create()\n",
        "                self.assign_book(book)\n",
        "            elif option == \"2\":\n",
        "                self.view_list()\n",
        "            elif option == \"3\":\n",
        "                print(\"Saliendo del sistema...\")\n",
        "                break\n",
        "            else:\n",
        "                print(\"Opción inválida. Intente de nuevo.\")\n",
        "\n",
        "    def book_create(self):\n",
        "        title = input(\"Ingrese el título del libro: \")\n",
        "        category = input(\"Ingrese la categoría o género del libro: \")\n",
        "        author = input(\"Ingrese el autor del libro: \")\n",
        "        return Book(title, category, author)\n",
        "\n",
        "    def assign_book(self, book):\n",
        "        if book.category not in self.categories:\n",
        "            self.categories[book.category] = Category(book.category)\n",
        "\n",
        "        self.categories[book.category].add_book(book)\n",
        "        print(f\"El libro '{book.title}' fue asignado a la categoría '{book.category}'.\")\n",
        "\n",
        "    def view_list(self):\n",
        "        category_name = input(\"Ingrese la categoría de los libros que desea ver: \")\n",
        "        if category_name in self.categories:\n",
        "            self.categories[category_name].show_books()\n",
        "        else:\n",
        "            print(\"Categoría inexistente.\")\n",
        "\n",
        "\n",
        "\n",
        "admin = BooksManager()\n",
        "admin.play()\n"
      ]
    }
  ],
  "metadata": {
    "colab": {
      "provenance": []
    },
    "kernelspec": {
      "display_name": "Python 3",
      "name": "python3"
    },
    "language_info": {
      "name": "python"
    }
  },
  "nbformat": 4,
  "nbformat_minor": 0
}
